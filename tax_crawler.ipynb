{
 "cells": [
  {
   "cell_type": "code",
   "execution_count": null,
   "id": "passing-prevention",
   "metadata": {},
   "outputs": [],
   "source": [
    "#### This notebook was used to generate PropertyShark/tax_all.csv ####\n",
    "# Involves crawling the PropertyShark website. \n",
    "# Use at your own risk, you might get IP banned from PropertyShark. "
   ]
  },
  {
   "cell_type": "code",
   "execution_count": 1,
   "id": "bottom-mambo",
   "metadata": {},
   "outputs": [],
   "source": [
    "import pandas as pd\n",
    "import numpy as np\n",
    "\n",
    "import tax_crawler\n",
    "import progress"
   ]
  },
  {
   "cell_type": "code",
   "execution_count": 2,
   "id": "offensive-norwegian",
   "metadata": {},
   "outputs": [
    {
     "name": "stdout",
     "output_type": "stream",
     "text": [
      "START (3 total, updates every 50)\n",
      "0 : {'address_found': 1, 'taxes_found': 1, 'tax_year': 2019, 'tax_amount': 4233.0, 'market_value': 167340.0, 'land_value': 24210.0, 'building_value': 143130.0, 'address': '3504 Bloomington Rd'}\n",
      "1 : {'address_found': 0, 'taxes_found': 0, 'tax_year': 0, 'tax_amount': 0.0, 'market_value': 0.0, 'land_value': 0.0, 'building_value': 0.0, 'address': '4210 Prariewest Dr'}\n",
      "2 : {'address_found': 1, 'taxes_found': 1, 'tax_year': 2019, 'tax_amount': 5972.0, 'market_value': 197760.0, 'land_value': 64050.0, 'building_value': 133710.0, 'address': '1204 Belmeade Dr'}\n",
      "3 / 3 = 1.000 (3.75 s)\n"
     ]
    }
   ],
   "source": [
    "addrs = ['3504 Bloomington Rd', '4210 Prariewest Dr', '1204 Belmeade Dr']\n",
    "dat = tax_crawler.get_all_tax_info(addrs)"
   ]
  },
  {
   "cell_type": "code",
   "execution_count": 3,
   "id": "featured-keeping",
   "metadata": {},
   "outputs": [
    {
     "data": {
      "text/html": [
       "<div>\n",
       "<style scoped>\n",
       "    .dataframe tbody tr th:only-of-type {\n",
       "        vertical-align: middle;\n",
       "    }\n",
       "\n",
       "    .dataframe tbody tr th {\n",
       "        vertical-align: top;\n",
       "    }\n",
       "\n",
       "    .dataframe thead th {\n",
       "        text-align: right;\n",
       "    }\n",
       "</style>\n",
       "<table border=\"1\" class=\"dataframe\">\n",
       "  <thead>\n",
       "    <tr style=\"text-align: right;\">\n",
       "      <th></th>\n",
       "      <th>address_found</th>\n",
       "      <th>taxes_found</th>\n",
       "      <th>tax_year</th>\n",
       "      <th>tax_amount</th>\n",
       "      <th>market_value</th>\n",
       "      <th>land_value</th>\n",
       "      <th>building_value</th>\n",
       "      <th>address</th>\n",
       "    </tr>\n",
       "  </thead>\n",
       "  <tbody>\n",
       "    <tr>\n",
       "      <th>0</th>\n",
       "      <td>1</td>\n",
       "      <td>1</td>\n",
       "      <td>2019</td>\n",
       "      <td>4233.0</td>\n",
       "      <td>167340.0</td>\n",
       "      <td>24210.0</td>\n",
       "      <td>143130.0</td>\n",
       "      <td>3504 Bloomington Rd</td>\n",
       "    </tr>\n",
       "    <tr>\n",
       "      <th>1</th>\n",
       "      <td>0</td>\n",
       "      <td>0</td>\n",
       "      <td>0</td>\n",
       "      <td>0.0</td>\n",
       "      <td>0.0</td>\n",
       "      <td>0.0</td>\n",
       "      <td>0.0</td>\n",
       "      <td>4210 Prariewest Dr</td>\n",
       "    </tr>\n",
       "    <tr>\n",
       "      <th>2</th>\n",
       "      <td>1</td>\n",
       "      <td>1</td>\n",
       "      <td>2019</td>\n",
       "      <td>5972.0</td>\n",
       "      <td>197760.0</td>\n",
       "      <td>64050.0</td>\n",
       "      <td>133710.0</td>\n",
       "      <td>1204 Belmeade Dr</td>\n",
       "    </tr>\n",
       "  </tbody>\n",
       "</table>\n",
       "</div>"
      ],
      "text/plain": [
       "   address_found  taxes_found  tax_year  tax_amount  market_value  land_value  \\\n",
       "0              1            1      2019      4233.0      167340.0     24210.0   \n",
       "1              0            0         0         0.0           0.0         0.0   \n",
       "2              1            1      2019      5972.0      197760.0     64050.0   \n",
       "\n",
       "   building_value              address  \n",
       "0        143130.0  3504 Bloomington Rd  \n",
       "1             0.0   4210 Prariewest Dr  \n",
       "2        133710.0     1204 Belmeade Dr  "
      ]
     },
     "execution_count": 3,
     "metadata": {},
     "output_type": "execute_result"
    }
   ],
   "source": [
    "dat"
   ]
  },
  {
   "cell_type": "code",
   "execution_count": 4,
   "id": "neural-hollow",
   "metadata": {},
   "outputs": [
    {
     "name": "stderr",
     "output_type": "stream",
     "text": [
      "/home/xanthi/.local/lib/python3.8/site-packages/IPython/core/interactiveshell.py:3155: DtypeWarning: Columns (17,28,31,32,35) have mixed types.Specify dtype option on import or set low_memory=False.\n",
      "  has_raised = await self.run_ast_nodes(code_ast.body, cell_name,\n"
     ]
    }
   ],
   "source": [
    "aaddress_frame = pd.read_csv('champaign-addresses.csv')\n",
    "aaddress_frame = aaddress_frame[list(aaddress_frame['Status']=='Active')]\n",
    "aaddress_frame = aaddress_frame[list(aaddress_frame['MainPoint']=='Y')]\n",
    "aaddress_frame.reset_index(drop=True, inplace=True)"
   ]
  },
  {
   "cell_type": "code",
   "execution_count": 5,
   "id": "advisory-lunch",
   "metadata": {},
   "outputs": [],
   "source": [
    "addr_list = aaddress_frame['StreetAddress'].tolist()"
   ]
  },
  {
   "cell_type": "code",
   "execution_count": 6,
   "id": "flying-tuner",
   "metadata": {},
   "outputs": [
    {
     "data": {
      "text/plain": [
       "27891"
      ]
     },
     "execution_count": 6,
     "metadata": {},
     "output_type": "execute_result"
    }
   ],
   "source": [
    "N_ADDR = len(addr_list)\n",
    "N_ADDR"
   ]
  },
  {
   "cell_type": "code",
   "execution_count": 7,
   "id": "spanish-curve",
   "metadata": {},
   "outputs": [],
   "source": [
    "def export_100(n):\n",
    "    addrs = addr_list[100*n:100*(n+1)]\n",
    "    dat = tax_crawler.get_all_tax_info(addrs, updateEvery=None, printAll=False)\n",
    "    dat.to_csv('PropertyShark/tax%d.csv' % n)"
   ]
  },
  {
   "cell_type": "code",
   "execution_count": 9,
   "id": "sacred-graphics",
   "metadata": {},
   "outputs": [
    {
     "name": "stdout",
     "output_type": "stream",
     "text": [
      "START (18 total, updates every 1)\n",
      "1 / 18 = 0.056 (238.67 s)\n",
      "2 / 18 = 0.111 (429.15 s)\n",
      "3 / 18 = 0.167 (615.98 s)\n",
      "4 / 18 = 0.222 (813.00 s)\n",
      "5 / 18 = 0.278 (1040.06 s)\n",
      "6 / 18 = 0.333 (1249.42 s)\n",
      "7 / 18 = 0.389 (1476.54 s)\n",
      "8 / 18 = 0.444 (1675.98 s)\n",
      "9 / 18 = 0.500 (1872.09 s)\n",
      "10 / 18 = 0.556 (2073.88 s)\n",
      "11 / 18 = 0.611 (2285.35 s)\n",
      "12 / 18 = 0.667 (2535.95 s)\n",
      "13 / 18 = 0.722 (2746.09 s)\n",
      "14 / 18 = 0.778 (2951.57 s)\n",
      "15 / 18 = 0.833 (3152.92 s)\n",
      "16 / 18 = 0.889 (3366.68 s)\n",
      "17 / 18 = 0.944 (3621.55 s)\n",
      "18 / 18 = 1.000 (3833.09 s)\n"
     ]
    }
   ],
   "source": [
    "start_100 = 0\n",
    "num_100 = int(np.ceil(N_ADDR/100))\n",
    "\"\"\"prog = progress.Progress(total=num_100-start_100, updateEvery=1)\n",
    "for i in range(start_100,num_100):\n",
    "    export_100(i)\n",
    "    prog.update()\"\"\""
   ]
  },
  {
   "cell_type": "code",
   "execution_count": 22,
   "id": "coastal-villa",
   "metadata": {},
   "outputs": [],
   "source": [
    "dfs = []\n",
    "for i in range(num_100):\n",
    "    fname = 'PropertyShark/tax%d.csv'%i\n",
    "    td = pd.read_csv(fname)\n",
    "    try:\n",
    "        td = td.drop('Unnamed: 0',1)\n",
    "        td.to_csv(fname, index=False)\n",
    "        td = pd.read_csv(fname)\n",
    "    except:\n",
    "        pass\n",
    "    dfs.append(td)\n",
    "full_df = pd.concat(dfs)\n",
    "full_df.to_csv('PropertyShark/tax_all.csv', index=False)"
   ]
  },
  {
   "cell_type": "code",
   "execution_count": 23,
   "id": "hairy-commons",
   "metadata": {},
   "outputs": [
    {
     "data": {
      "text/plain": [
       "Index(['address_found', 'taxes_found', 'tax_year', 'tax_amount',\n",
       "       'market_value', 'land_value', 'building_value', 'address'],\n",
       "      dtype='object')"
      ]
     },
     "execution_count": 23,
     "metadata": {},
     "output_type": "execute_result"
    }
   ],
   "source": [
    "full_df.columns"
   ]
  },
  {
   "cell_type": "code",
   "execution_count": null,
   "id": "seeing-short",
   "metadata": {},
   "outputs": [],
   "source": []
  }
 ],
 "metadata": {
  "kernelspec": {
   "display_name": "Python 3",
   "language": "python",
   "name": "python3"
  },
  "language_info": {
   "codemirror_mode": {
    "name": "ipython",
    "version": 3
   },
   "file_extension": ".py",
   "mimetype": "text/x-python",
   "name": "python",
   "nbconvert_exporter": "python",
   "pygments_lexer": "ipython3",
   "version": "3.8.5"
  }
 },
 "nbformat": 4,
 "nbformat_minor": 5
}
