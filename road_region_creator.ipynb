{
 "cells": [
  {
   "cell_type": "code",
   "execution_count": 1,
   "id": "psychological-green",
   "metadata": {},
   "outputs": [],
   "source": [
    "import json\n",
    "import importlib\n",
    "\n",
    "import numpy as np\n",
    "import osmium\n",
    "\n",
    "import progress\n",
    "import polygons\n",
    "import osm_roads\n",
    "import jsdump"
   ]
  },
  {
   "cell_type": "code",
   "execution_count": 2,
   "id": "israeli-atlas",
   "metadata": {},
   "outputs": [
    {
     "name": "stdout",
     "output_type": "stream",
     "text": [
      "Roads/Water found: 2673\n",
      "Total segments: 32324\n",
      "{'highway=residential': 1629, 'highway=unclassified': 123, 'highway=motorway_link': 63, 'highway=junction': 6, 'highway=tertiary_link': 1, 'highway=secondary': 267, 'highway=tertiary': 207, 'highway=primary': 65, 'highway=construction': 3, 'highway=motorway': 52, 'waterway=,natural=water,water=': 67, 'waterway=stream,natural=,water=': 86, 'waterway=,natural=water,water=pond': 67, 'waterway=,natural=water,water=lake': 11, 'waterway=canal,natural=,water=': 1, 'waterway=,natural=water,water=basin': 5, 'waterway=ditch,natural=,water=': 3, 'highway=road': 2, 'waterway=,natural=water,water=reservoir': 4, 'waterway=drain,natural=,water=': 1, 'waterway=river,natural=,water=': 3, 'highway=primary_link': 5, 'highway=secondary_link': 2}\n"
     ]
    }
   ],
   "source": [
    "importlib.reload(osm_roads)\n",
    "OSM_FILE = 'map.osm'\n",
    "\n",
    "# get road segments\n",
    "road_segs = osm_roads.get_road_segs(OSM_FILE)"
   ]
  },
  {
   "cell_type": "code",
   "execution_count": 3,
   "id": "infectious-survey",
   "metadata": {},
   "outputs": [
    {
     "name": "stdout",
     "output_type": "stream",
     "text": [
      "Breaking segments...\n",
      "START (32323 total, updates every 2000)\n"
     ]
    },
    {
     "name": "stderr",
     "output_type": "stream",
     "text": [
      "/mnt/c/Users/null/Documents/zxi/u4/research/ComMapping/polygons.py:126: RuntimeWarning: divide by zero encountered in true_divide\n",
      "  val_t = num_t / denom\n",
      "/mnt/c/Users/null/Documents/zxi/u4/research/ComMapping/polygons.py:127: RuntimeWarning: divide by zero encountered in true_divide\n",
      "  val_u = num_u / denom\n",
      "/mnt/c/Users/null/Documents/zxi/u4/research/ComMapping/polygons.py:126: RuntimeWarning: invalid value encountered in true_divide\n",
      "  val_t = num_t / denom\n",
      "/mnt/c/Users/null/Documents/zxi/u4/research/ComMapping/polygons.py:127: RuntimeWarning: invalid value encountered in true_divide\n",
      "  val_u = num_u / denom\n"
     ]
    },
    {
     "name": "stdout",
     "output_type": "stream",
     "text": [
      "2000 / 32323 = 0.062 (1.23 s)\n",
      "4000 / 32323 = 0.124 (4.44 s)\n",
      "6000 / 32323 = 0.186 (9.98 s)\n",
      "8000 / 32323 = 0.248 (16.90 s)\n",
      "10000 / 32323 = 0.309 (25.51 s)\n",
      "12000 / 32323 = 0.371 (36.29 s)\n",
      "14000 / 32323 = 0.433 (48.83 s)\n",
      "16000 / 32323 = 0.495 (63.26 s)\n",
      "18000 / 32323 = 0.557 (81.52 s)\n",
      "20000 / 32323 = 0.619 (99.91 s)\n",
      "22000 / 32323 = 0.681 (120.70 s)\n",
      "24000 / 32323 = 0.743 (142.84 s)\n",
      "26000 / 32323 = 0.804 (167.84 s)\n",
      "28000 / 32323 = 0.866 (194.22 s)\n",
      "30000 / 32323 = 0.928 (227.44 s)\n",
      "32000 / 32323 = 0.990 (257.50 s)\n",
      "32323 / 32323 = 1.000 (262.38 s)\n",
      "Creating polygons...\n",
      "Done!\n"
     ]
    }
   ],
   "source": [
    "# create all road polygons\n",
    "road_polygons = polygons.full_region_finder_pipeline(road_segs)"
   ]
  },
  {
   "cell_type": "code",
   "execution_count": 4,
   "id": "parental-assignment",
   "metadata": {},
   "outputs": [
    {
     "data": {
      "text/plain": [
       "1886"
      ]
     },
     "execution_count": 4,
     "metadata": {},
     "output_type": "execute_result"
    }
   ],
   "source": [
    "len(road_polygons)"
   ]
  },
  {
   "cell_type": "code",
   "execution_count": 5,
   "id": "floral-roommate",
   "metadata": {},
   "outputs": [],
   "source": [
    "# export to js\n",
    "road_poly_json = [[p.tolist() for p in pp.polys] for pp in road_polygons]\n",
    "\n",
    "dumper = jsdump.Dumper('road_regions.js')\n",
    "dumper.dump('road_regions', road_poly_json)\n",
    "dumper.done()"
   ]
  },
  {
   "cell_type": "code",
   "execution_count": 6,
   "id": "violent-calculation",
   "metadata": {},
   "outputs": [],
   "source": [
    "# export to json\n",
    "outfile = open('road_regions.json','w')\n",
    "polygons.PolyList.export_json(road_polygons, outfile)\n",
    "outfile.close()"
   ]
  },
  {
   "cell_type": "code",
   "execution_count": null,
   "id": "british-korean",
   "metadata": {},
   "outputs": [],
   "source": []
  }
 ],
 "metadata": {
  "kernelspec": {
   "display_name": "Python 3",
   "language": "python",
   "name": "python3"
  },
  "language_info": {
   "codemirror_mode": {
    "name": "ipython",
    "version": 3
   },
   "file_extension": ".py",
   "mimetype": "text/x-python",
   "name": "python",
   "nbconvert_exporter": "python",
   "pygments_lexer": "ipython3",
   "version": "3.8.5"
  }
 },
 "nbformat": 4,
 "nbformat_minor": 5
}
